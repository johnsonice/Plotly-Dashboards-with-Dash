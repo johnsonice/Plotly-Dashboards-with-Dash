{
 "cells": [
  {
   "cell_type": "markdown",
   "metadata": {},
   "source": [
    "### 1. Read in word document, identify \"hot button issue\" by checking against pre-defined keyword list \n",
    "### 2. Return dictionary {\"hot button issue\": set of keywords found}\n",
    "\n",
    "### Note: Keyword needs to include mutations such as \" intervene -> intervened, intervines\""
   ]
  },
  {
   "cell_type": "code",
   "execution_count": 1,
   "metadata": {
    "collapsed": true
   },
   "outputs": [],
   "source": [
    "import sys\n",
    "import os\n",
    "import pickle\n",
    "import re\n",
    "\n",
    "import pandas as pd\n",
    "import numpy as np\n",
    "\n",
    "from docx import Document\n",
    "\n",
    "import time\n",
    "start_time = time.time()"
   ]
  },
  {
   "cell_type": "code",
   "execution_count": 2,
   "metadata": {},
   "outputs": [
    {
     "name": "stdout",
     "output_type": "stream",
     "text": [
      "/mnt/notebook/poc\n"
     ]
    }
   ],
   "source": [
    "hot_button_file = os.path.join('../../data/raw/hot_button_issues.xlsx')\n",
    "text_file_path = \"../../documentation/sample_docs/5138964-v5-Brazil_2013_Article_IV_Consultation_-_Policy_Note.DOCX\"\n",
    "save_file = os.path.join('../../data/processed/','hot_button_dict.pickle')\n",
    "print(os.getcwd())"
   ]
  },
  {
   "cell_type": "markdown",
   "metadata": {},
   "source": [
    "#### Import hot_button_table (manually created)"
   ]
  },
  {
   "cell_type": "code",
   "execution_count": 3,
   "metadata": {},
   "outputs": [
    {
     "data": {
      "text/html": [
       "<div>\n",
       "<style scoped>\n",
       "    .dataframe tbody tr th:only-of-type {\n",
       "        vertical-align: middle;\n",
       "    }\n",
       "\n",
       "    .dataframe tbody tr th {\n",
       "        vertical-align: top;\n",
       "    }\n",
       "\n",
       "    .dataframe thead th {\n",
       "        text-align: right;\n",
       "    }\n",
       "</style>\n",
       "<table border=\"1\" class=\"dataframe\">\n",
       "  <thead>\n",
       "    <tr style=\"text-align: right;\">\n",
       "      <th></th>\n",
       "      <th>Hot button issues</th>\n",
       "      <th>keyword list</th>\n",
       "    </tr>\n",
       "  </thead>\n",
       "  <tbody>\n",
       "    <tr>\n",
       "      <th>0</th>\n",
       "      <td>Capital flow management measures</td>\n",
       "      <td>cfm, cfm mpm, capital inflows surge, disruptiv...</td>\n",
       "    </tr>\n",
       "    <tr>\n",
       "      <th>1</th>\n",
       "      <td>Exchange restrictions</td>\n",
       "      <td>article viii, current international transactio...</td>\n",
       "    </tr>\n",
       "    <tr>\n",
       "      <th>2</th>\n",
       "      <td>Multiple currency practice</td>\n",
       "      <td>mcp, article viii, effective rate, preferentia...</td>\n",
       "    </tr>\n",
       "    <tr>\n",
       "      <th>3</th>\n",
       "      <td>Corruption</td>\n",
       "      <td>political risk, bribes, transparency, accounta...</td>\n",
       "    </tr>\n",
       "    <tr>\n",
       "      <th>4</th>\n",
       "      <td>Governance</td>\n",
       "      <td>public financial management, pfm, anti money l...</td>\n",
       "    </tr>\n",
       "    <tr>\n",
       "      <th>5</th>\n",
       "      <td>Fintech/digital</td>\n",
       "      <td>artificial intelligence, big data, blockchain,...</td>\n",
       "    </tr>\n",
       "    <tr>\n",
       "      <th>6</th>\n",
       "      <td>Macroprudential measures</td>\n",
       "      <td>mpm, cfm mpm, systemic risk, ltv, dsti, risk w...</td>\n",
       "    </tr>\n",
       "    <tr>\n",
       "      <th>7</th>\n",
       "      <td>Housing</td>\n",
       "      <td>affordability, mortgage, house prices, househo...</td>\n",
       "    </tr>\n",
       "    <tr>\n",
       "      <th>8</th>\n",
       "      <td>Demographic</td>\n",
       "      <td>population, ageing, pension, productivity, mig...</td>\n",
       "    </tr>\n",
       "    <tr>\n",
       "      <th>9</th>\n",
       "      <td>Shadow banking</td>\n",
       "      <td>non bank credit, credit guarantee, contingent ...</td>\n",
       "    </tr>\n",
       "    <tr>\n",
       "      <th>10</th>\n",
       "      <td>Competition policy</td>\n",
       "      <td>industrial policy, monopoly, cartel, antitrust...</td>\n",
       "    </tr>\n",
       "    <tr>\n",
       "      <th>11</th>\n",
       "      <td>Foreign Exchange intervention</td>\n",
       "      <td>fx intervention, fxi, disorderly market condit...</td>\n",
       "    </tr>\n",
       "    <tr>\n",
       "      <th>12</th>\n",
       "      <td>Belt and road</td>\n",
       "      <td>silk road, bri, belt and road, , belt and road</td>\n",
       "    </tr>\n",
       "    <tr>\n",
       "      <th>13</th>\n",
       "      <td>Arrears</td>\n",
       "      <td>financing assurances, misreported, good faith,...</td>\n",
       "    </tr>\n",
       "    <tr>\n",
       "      <th>14</th>\n",
       "      <td>Debt restructuring</td>\n",
       "      <td>haircut, holdouts, debt relief, hipc, club, de...</td>\n",
       "    </tr>\n",
       "    <tr>\n",
       "      <th>15</th>\n",
       "      <td>Financing assurances</td>\n",
       "      <td>safeguards, imf resources, arrears, , reassure...</td>\n",
       "    </tr>\n",
       "  </tbody>\n",
       "</table>\n",
       "</div>"
      ],
      "text/plain": [
       "                   Hot button issues  \\\n",
       "0   Capital flow management measures   \n",
       "1              Exchange restrictions   \n",
       "2         Multiple currency practice   \n",
       "3                         Corruption   \n",
       "4                         Governance   \n",
       "5                    Fintech/digital   \n",
       "6           Macroprudential measures   \n",
       "7                            Housing   \n",
       "8                        Demographic   \n",
       "9                     Shadow banking   \n",
       "10                Competition policy   \n",
       "11     Foreign Exchange intervention   \n",
       "12                     Belt and road   \n",
       "13                           Arrears   \n",
       "14                Debt restructuring   \n",
       "15              Financing assurances   \n",
       "\n",
       "                                         keyword list  \n",
       "0   cfm, cfm mpm, capital inflows surge, disruptiv...  \n",
       "1   article viii, current international transactio...  \n",
       "2   mcp, article viii, effective rate, preferentia...  \n",
       "3   political risk, bribes, transparency, accounta...  \n",
       "4   public financial management, pfm, anti money l...  \n",
       "5   artificial intelligence, big data, blockchain,...  \n",
       "6   mpm, cfm mpm, systemic risk, ltv, dsti, risk w...  \n",
       "7   affordability, mortgage, house prices, househo...  \n",
       "8   population, ageing, pension, productivity, mig...  \n",
       "9   non bank credit, credit guarantee, contingent ...  \n",
       "10  industrial policy, monopoly, cartel, antitrust...  \n",
       "11  fx intervention, fxi, disorderly market condit...  \n",
       "12     silk road, bri, belt and road, , belt and road  \n",
       "13  financing assurances, misreported, good faith,...  \n",
       "14  haircut, holdouts, debt relief, hipc, club, de...  \n",
       "15  safeguards, imf resources, arrears, , reassure...  "
      ]
     },
     "execution_count": 3,
     "metadata": {},
     "output_type": "execute_result"
    }
   ],
   "source": [
    "hot_button_df = pd.read_excel(hot_button_file)\n",
    "\n",
    "hot_button_df.fillna('', inplace= True)\n",
    "\n",
    "hot_button_df['keyword list'] = hot_button_df['related words selected'].str.cat(hot_button_df['augmented words from topic modelling'], sep = ', ').str.cat(hot_button_df['augmented words from word2vec'], sep = ', ').str.cat(hot_button_df['search term for word2vec'], sep = ', ')\n",
    "\n",
    "hot_button_df['keyword list'] = hot_button_df['keyword list'].str.lower().str.replace(r'/|-|_',' ')\n",
    "\n",
    "hot_button_df[['Hot button issues','keyword list']]"
   ]
  },
  {
   "cell_type": "markdown",
   "metadata": {},
   "source": [
    "#### Create dictionary mapping name and regular expression"
   ]
  },
  {
   "cell_type": "code",
   "execution_count": 8,
   "metadata": {},
   "outputs": [
    {
     "data": {
      "text/plain": [
       "{'Arrears': 'financing assurancess?[\\\\s|.,]+|[\\\\s|.,]+misreporteds?[\\\\s|.,]+|[\\\\s|.,]+good faiths?[\\\\s|.,]+|[\\\\s|.,]+lending into arrears policys?[\\\\s|.,]+|[\\\\s|.,]+creditors?[\\\\s|.,]+|[\\\\s|.,]+arrearss?[\\\\s|.,]+|[\\\\s|.,]+upos?[\\\\s|.,]+|[\\\\s|.,]+sonaras?[\\\\s|.,]+|[\\\\s|.,]+emaes?[\\\\s|.,]+|[\\\\s|.,]+extrabudgetary spendings?[\\\\s|.,]+|[\\\\s|.,]+unpaids?[\\\\s|.,]+|[\\\\s|.,]+vat refunds?[\\\\s|.,]+|[\\\\s|.,]+naftogazs?[\\\\s|.,]+|[\\\\s|.,]+unprogrammeds?[\\\\s|.,]+|[\\\\s|.,]+reschedules?[\\\\s|.,]+|[\\\\s|.,]+outstanings?[\\\\s|.,]+|[\\\\s|.,]+repayments?[\\\\s|.,]+|[\\\\s|.,]+arrear',\n",
       " 'Belt and road': 'silk roads?[\\\\s|.,]+|[\\\\s|.,]+bris?[\\\\s|.,]+|[\\\\s|.,]+belt and roads?[\\\\s|.,]+|[\\\\s|.,]+s?[\\\\s|.,]+|[\\\\s|.,]+belt and road',\n",
       " 'Capital flow management measures': 'cfms?[\\\\s|.,]+|[\\\\s|.,]+cfm mpms?[\\\\s|.,]+|[\\\\s|.,]+capital inflows surges?[\\\\s|.,]+|[\\\\s|.,]+disruptive capital outflowss?[\\\\s|.,]+|[\\\\s|.,]+depreciation pressuress?[\\\\s|.,]+|[\\\\s|.,]+cfmss?[\\\\s|.,]+|[\\\\s|.,]+capital flow measures?[\\\\s|.,]+|[\\\\s|.,]+cfms?[\\\\s|.,]+|[\\\\s|.,]+capital outflow',\n",
       " 'Competition policy': 'industrial policys?[\\\\s|.,]+|[\\\\s|.,]+monopolys?[\\\\s|.,]+|[\\\\s|.,]+cartels?[\\\\s|.,]+|[\\\\s|.,]+antitrust,anti competitives?[\\\\s|.,]+|[\\\\s|.,]+cartels?[\\\\s|.,]+|[\\\\s|.,]+anti trusts?[\\\\s|.,]+|[\\\\s|.,]+anticompetitives?[\\\\s|.,]+|[\\\\s|.,]+noncompetitives?[\\\\s|.,]+|[\\\\s|.,]+privatizations?[\\\\s|.,]+|[\\\\s|.,]+entry barriers?[\\\\s|.,]+|[\\\\s|.,]+contestabilitys?[\\\\s|.,]+|[\\\\s|.,]+regulateds?[\\\\s|.,]+|[\\\\s|.,]+antitrusts?[\\\\s|.,]+|[\\\\s|.,]+services directives?[\\\\s|.,]+|[\\\\s|.,]+deregulates?[\\\\s|.,]+|[\\\\s|.,]+sheltered sectors?[\\\\s|.,]+|[\\\\s|.,]+anti competitives?[\\\\s|.,]+|[\\\\s|.,]+competition',\n",
       " 'Corruption': 'political risks?[\\\\s|.,]+|[\\\\s|.,]+bribess?[\\\\s|.,]+|[\\\\s|.,]+transparencys?[\\\\s|.,]+|[\\\\s|.,]+accountabilitys?[\\\\s|.,]+|[\\\\s|.,]+tax evasions?[\\\\s|.,]+|[\\\\s|.,]+state interventions?[\\\\s|.,]+|[\\\\s|.,]+rent seekings?[\\\\s|.,]+|[\\\\s|.,]+fraudulents?[\\\\s|.,]+|[\\\\s|.,]+corruptions?[\\\\s|.,]+|[\\\\s|.,]+anticorruptions?[\\\\s|.,]+|[\\\\s|.,]+anti briberys?[\\\\s|.,]+|[\\\\s|.,]+red tapes?[\\\\s|.,]+|[\\\\s|.,]+rent seekings?[\\\\s|.,]+|[\\\\s|.,]+corruption',\n",
       " 'Debt restructuring': 'haircuts?[\\\\s|.,]+|[\\\\s|.,]+holdoutss?[\\\\s|.,]+|[\\\\s|.,]+debt reliefs?[\\\\s|.,]+|[\\\\s|.,]+hipcs?[\\\\s|.,]+|[\\\\s|.,]+clubs?[\\\\s|.,]+|[\\\\s|.,]+debt reliefs?[\\\\s|.,]+|[\\\\s|.,]+pariss?[\\\\s|.,]+|[\\\\s|.,]+reschedules?[\\\\s|.,]+|[\\\\s|.,]+multilateral debt reliefs?[\\\\s|.,]+|[\\\\s|.,]+mdris?[\\\\s|.,]+|[\\\\s|.,]+rfis?[\\\\s|.,]+|[\\\\s|.,]+prgts?[\\\\s|.,]+|[\\\\s|.,]+idas?[\\\\s|.,]+|[\\\\s|.,]+afdbs?[\\\\s|.,]+|[\\\\s|.,]+ibrds?[\\\\s|.,]+|[\\\\s|.,]+graces?[\\\\s|.,]+|[\\\\s|.,]+restructurings?[\\\\s|.,]+|[\\\\s|.,]+partial privatizations?[\\\\s|.,]+|[\\\\s|.,]+commercializes?[\\\\s|.,]+|[\\\\s|.,]+gfis?[\\\\s|.,]+|[\\\\s|.,]+corporatizations?[\\\\s|.,]+|[\\\\s|.,]+bnfs?[\\\\s|.,]+|[\\\\s|.,]+nationalizes?[\\\\s|.,]+|[\\\\s|.,]+ails?[\\\\s|.,]+|[\\\\s|.,]+recapitalizes?[\\\\s|.,]+|[\\\\s|.,]+socially owns?[\\\\s|.,]+|[\\\\s|.,]+recapitalizs?[\\\\s|.,]+|[\\\\s|.,]+bims?[\\\\s|.,]+|[\\\\s|.,]+liquidates?[\\\\s|.,]+|[\\\\s|.,]+unviables?[\\\\s|.,]+|[\\\\s|.,]+equitizations?[\\\\s|.,]+|[\\\\s|.,]+restructure',\n",
       " 'Demographic': 'populations?[\\\\s|.,]+|[\\\\s|.,]+ageings?[\\\\s|.,]+|[\\\\s|.,]+pensions?[\\\\s|.,]+|[\\\\s|.,]+productivitys?[\\\\s|.,]+|[\\\\s|.,]+migrations?[\\\\s|.,]+|[\\\\s|.,]+ages?[\\\\s|.,]+|[\\\\s|.,]+retirements?[\\\\s|.,]+|[\\\\s|.,]+health cares?[\\\\s|.,]+|[\\\\s|.,]+insurances?[\\\\s|.,]+|[\\\\s|.,]+actuarials?[\\\\s|.,]+|[\\\\s|.,]+agings?[\\\\s|.,]+|[\\\\s|.,]+populations?[\\\\s|.,]+|[\\\\s|.,]+dependency ratios?[\\\\s|.,]+|[\\\\s|.,]+fertility rates?[\\\\s|.,]+|[\\\\s|.,]+baby booms?[\\\\s|.,]+|[\\\\s|.,]+working ages?[\\\\s|.,]+|[\\\\s|.,]+demographic',\n",
       " 'Exchange restrictions': 'article viiis?[\\\\s|.,]+|[\\\\s|.,]+current international transactionss?[\\\\s|.,]+|[\\\\s|.,]+exchange controls?[\\\\s|.,]+|[\\\\s|.,]+quantitative limitations?[\\\\s|.,]+|[\\\\s|.,]+fxs?[\\\\s|.,]+|[\\\\s|.,]+articles?[\\\\s|.,]+|[\\\\s|.,]+restrictions?[\\\\s|.,]+|[\\\\s|.,]+exchange restrictions?[\\\\s|.,]+|[\\\\s|.,]+transactions?[\\\\s|.,]+|[\\\\s|.,]+article xivs?[\\\\s|.,]+|[\\\\s|.,]+cboss?[\\\\s|.,]+|[\\\\s|.,]+article viiis?[\\\\s|.,]+|[\\\\s|.,]+exchange',\n",
       " 'Financing assurances': 'safeguardss?[\\\\s|.,]+|[\\\\s|.,]+imf resourcess?[\\\\s|.,]+|[\\\\s|.,]+arrearss?[\\\\s|.,]+|[\\\\s|.,]+s?[\\\\s|.,]+|[\\\\s|.,]+reassures?[\\\\s|.,]+|[\\\\s|.,]+satisfactorilys?[\\\\s|.,]+|[\\\\s|.,]+strict adherences?[\\\\s|.,]+|[\\\\s|.,]+disciplines?[\\\\s|.,]+|[\\\\s|.,]+ifis?[\\\\s|.,]+|[\\\\s|.,]+preconditions?[\\\\s|.,]+|[\\\\s|.,]+conditionals?[\\\\s|.,]+|[\\\\s|.,]+continuitys?[\\\\s|.,]+|[\\\\s|.,]+successor arrangements?[\\\\s|.,]+|[\\\\s|.,]+assurance',\n",
       " 'Fintech/digital': 'artificial intelligences?[\\\\s|.,]+|[\\\\s|.,]+big datas?[\\\\s|.,]+|[\\\\s|.,]+blockchains?[\\\\s|.,]+|[\\\\s|.,]+innovations?[\\\\s|.,]+|[\\\\s|.,]+cryptos?[\\\\s|.,]+|[\\\\s|.,]+machine learnings?[\\\\s|.,]+|[\\\\s|.,]+mobile lendings?[\\\\s|.,]+|[\\\\s|.,]+mobile phones?[\\\\s|.,]+|[\\\\s|.,]+service providers?[\\\\s|.,]+|[\\\\s|.,]+mobile bankings?[\\\\s|.,]+|[\\\\s|.,]+internets?[\\\\s|.,]+|[\\\\s|.,]+gateways?[\\\\s|.,]+|[\\\\s|.,]+aadhaars?[\\\\s|.,]+|[\\\\s|.,]+mobile',\n",
       " 'Foreign Exchange intervention': 'fx interventions?[\\\\s|.,]+|[\\\\s|.,]+fxis?[\\\\s|.,]+|[\\\\s|.,]+disorderly market conditions?[\\\\s|.,]+|[\\\\s|.,]+dmcs?[\\\\s|.,]+|[\\\\s|.,]+market dysfunctions?[\\\\s|.,]+|[\\\\s|.,]+fx saless?[\\\\s|.,]+|[\\\\s|.,]+exchange market interventions?[\\\\s|.,]+|[\\\\s|.,]+fx interventions?[\\\\s|.,]+|[\\\\s|.,]+intervenes?[\\\\s|.,]+|[\\\\s|.,]+excessive volatilitys?[\\\\s|.,]+|[\\\\s|.,]+smooth excessives?[\\\\s|.,]+|[\\\\s|.,]+sterilize interventions?[\\\\s|.,]+|[\\\\s|.,]+bous?[\\\\s|.,]+|[\\\\s|.,]+discretionary interventions?[\\\\s|.,]+|[\\\\s|.,]+sterilization operations?[\\\\s|.,]+|[\\\\s|.,]+way bets?[\\\\s|.,]+|[\\\\s|.,]+cbys?[\\\\s|.,]+|[\\\\s|.,]+cbrts?[\\\\s|.,]+|[\\\\s|.,]+nbkrs?[\\\\s|.,]+|[\\\\s|.,]+intervention',\n",
       " 'Governance': 'public financial managements?[\\\\s|.,]+|[\\\\s|.,]+pfms?[\\\\s|.,]+|[\\\\s|.,]+anti money launderings?[\\\\s|.,]+|[\\\\s|.,]+amls?[\\\\s|.,]+|[\\\\s|.,]+combating the financing of terrorisms?[\\\\s|.,]+|[\\\\s|.,]+cfts?[\\\\s|.,]+|[\\\\s|.,]+apgs?[\\\\s|.,]+|[\\\\s|.,]+cfatfs?[\\\\s|.,]+|[\\\\s|.,]+launders?[\\\\s|.,]+|[\\\\s|.,]+suspiciouss?[\\\\s|.,]+|[\\\\s|.,]+offences?[\\\\s|.,]+|[\\\\s|.,]+criminalizes?[\\\\s|.,]+|[\\\\s|.,]+offenses?[\\\\s|.,]+|[\\\\s|.,]+terrorisms?[\\\\s|.,]+|[\\\\s|.,]+launderings?[\\\\s|.,]+|[\\\\s|.,]+fatfs?[\\\\s|.,]+|[\\\\s|.,]+amls?[\\\\s|.,]+|[\\\\s|.,]+antis?[\\\\s|.,]+|[\\\\s|.,]+cfts?[\\\\s|.,]+|[\\\\s|.,]+tfs?[\\\\s|.,]+|[\\\\s|.,]+anti money launderings?[\\\\s|.,]+|[\\\\s|.,]+money launderings?[\\\\s|.,]+|[\\\\s|.,]+cbrs?[\\\\s|.,]+|[\\\\s|.,]+combat corruptions?[\\\\s|.,]+|[\\\\s|.,]+fight corruptions?[\\\\s|.,]+|[\\\\s|.,]+governance',\n",
       " 'Housing': 'affordabilitys?[\\\\s|.,]+|[\\\\s|.,]+mortgages?[\\\\s|.,]+|[\\\\s|.,]+house pricess?[\\\\s|.,]+|[\\\\s|.,]+households?[\\\\s|.,]+|[\\\\s|.,]+housings?[\\\\s|.,]+|[\\\\s|.,]+real estates?[\\\\s|.,]+|[\\\\s|.,]+propertys?[\\\\s|.,]+|[\\\\s|.,]+housing markets?[\\\\s|.,]+|[\\\\s|.,]+residentials?[\\\\s|.,]+|[\\\\s|.,]+housing prices?[\\\\s|.,]+|[\\\\s|.,]+debt service to incomes?[\\\\s|.,]+|[\\\\s|.,]+ltis?[\\\\s|.,]+|[\\\\s|.,]+cres?[\\\\s|.,]+|[\\\\s|.,]+ownder occupieds?[\\\\s|.,]+|[\\\\s|.,]+loan to incomes?[\\\\s|.,]+|[\\\\s|.,]+ltvs?[\\\\s|.,]+|[\\\\s|.,]+dslis?[\\\\s|.,]+|[\\\\s|.,]+amortizings?[\\\\s|.,]+|[\\\\s|.,]+price to incomes?[\\\\s|.,]+|[\\\\s|.,]+price to rents?[\\\\s|.,]+|[\\\\s|.,]+interest onlys?[\\\\s|.,]+|[\\\\s|.,]+ltvss?[\\\\s|.,]+|[\\\\s|.,]+dtis?[\\\\s|.,]+|[\\\\s|.,]+debt to incomes?[\\\\s|.,]+|[\\\\s|.,]+mortgage debts?[\\\\s|.,]+|[\\\\s|.,]+buy to lets?[\\\\s|.,]+|[\\\\s|.,]+aprtments?[\\\\s|.,]+|[\\\\s|.,]+loan to values?[\\\\s|.,]+|[\\\\s|.,]+homeowners?[\\\\s|.,]+|[\\\\s|.,]+cmbcs?[\\\\s|.,]+|[\\\\s|.,]+house price growths?[\\\\s|.,]+|[\\\\s|.,]+house prices?[\\\\s|.,]+|[\\\\s|.,]+real estate relateds?[\\\\s|.,]+|[\\\\s|.,]+tenants?[\\\\s|.,]+|[\\\\s|.,]+swellings?[\\\\s|.,]+|[\\\\s|.,]+household debts?[\\\\s|.,]+|[\\\\s|.,]+residentials?[\\\\s|.,]+|[\\\\s|.,]+residential propertys?[\\\\s|.,]+|[\\\\s|.,]+rentals?[\\\\s|.,]+|[\\\\s|.,]+dwellings?[\\\\s|.,]+|[\\\\s|.,]+house prices?[\\\\s|.,]+|[\\\\s|.,]+affordabilitys?[\\\\s|.,]+|[\\\\s|.,]+mortgages?[\\\\s|.,]+|[\\\\s|.,]+apartments?[\\\\s|.,]+|[\\\\s|.,]+owner occupys?[\\\\s|.,]+|[\\\\s|.,]+residential constructions?[\\\\s|.,]+|[\\\\s|.,]+propertys?[\\\\s|.,]+|[\\\\s|.,]+household indebtednesss?[\\\\s|.,]+|[\\\\s|.,]+mortgage lendings?[\\\\s|.,]+|[\\\\s|.,]+real estates?[\\\\s|.,]+|[\\\\s|.,]+home ownerships?[\\\\s|.,]+|[\\\\s|.,]+rents?[\\\\s|.,]+|[\\\\s|.,]+households?[\\\\s|.,]+|[\\\\s|.,]+oversupplys?[\\\\s|.,]+|[\\\\s|.,]+housing',\n",
       " 'Macroprudential measures': 'mpms?[\\\\s|.,]+|[\\\\s|.,]+cfm mpms?[\\\\s|.,]+|[\\\\s|.,]+systemic risks?[\\\\s|.,]+|[\\\\s|.,]+ltvs?[\\\\s|.,]+|[\\\\s|.,]+dstis?[\\\\s|.,]+|[\\\\s|.,]+risk weightss?[\\\\s|.,]+|[\\\\s|.,]+lcrs?[\\\\s|.,]+|[\\\\s|.,]+nsfrs?[\\\\s|.,]+|[\\\\s|.,]+capital buffers?[\\\\s|.,]+|[\\\\s|.,]+loan loss provisionings?[\\\\s|.,]+|[\\\\s|.,]+fx borrowings?[\\\\s|.,]+|[\\\\s|.,]+s?[\\\\s|.,]+|[\\\\s|.,]+macro prudentials?[\\\\s|.,]+|[\\\\s|.,]+macroprudential tools?[\\\\s|.,]+|[\\\\s|.,]+macroprudential toolkits?[\\\\s|.,]+|[\\\\s|.,]+macroprudential instruments?[\\\\s|.,]+|[\\\\s|.,]+fpcs?[\\\\s|.,]+|[\\\\s|.,]+dynamic provisionings?[\\\\s|.,]+|[\\\\s|.,]+ltvs?[\\\\s|.,]+|[\\\\s|.,]+fis?[\\\\s|.,]+|[\\\\s|.,]+prudentials?[\\\\s|.,]+|[\\\\s|.,]+dtis?[\\\\s|.,]+|[\\\\s|.,]+knfs?[\\\\s|.,]+|[\\\\s|.,]+fis?[\\\\s|.,]+|[\\\\s|.,]+macroprudential',\n",
       " 'Multiple currency practice': 'mcps?[\\\\s|.,]+|[\\\\s|.,]+article viiis?[\\\\s|.,]+|[\\\\s|.,]+effective rates?[\\\\s|.,]+|[\\\\s|.,]+preferential rates?[\\\\s|.,]+|[\\\\s|.,]+parallels?[\\\\s|.,]+|[\\\\s|.,]+mcps?[\\\\s|.,]+|[\\\\s|.,]+parallel markets?[\\\\s|.,]+|[\\\\s|.,]+multiple currency',\n",
       " 'Shadow banking': 'non bank credits?[\\\\s|.,]+|[\\\\s|.,]+credit guarantees?[\\\\s|.,]+|[\\\\s|.,]+contingent liabilitiess?[\\\\s|.,]+|[\\\\s|.,]+non bankings?[\\\\s|.,]+|[\\\\s|.,]+cres?[\\\\s|.,]+|[\\\\s|.,]+regulatory perimeters?[\\\\s|.,]+|[\\\\s|.,]+institution nbfiss?[\\\\s|.,]+|[\\\\s|.,]+nbfiss?[\\\\s|.,]+|[\\\\s|.,]+sfis?[\\\\s|.,]+|[\\\\s|.,]+asset managers?[\\\\s|.,]+|[\\\\s|.,]+security dealers?[\\\\s|.,]+|[\\\\s|.,]+indirect exposures?[\\\\s|.,]+|[\\\\s|.,]+shadow banking'}"
      ]
     },
     "execution_count": 8,
     "metadata": {},
     "output_type": "execute_result"
    }
   ],
   "source": [
    "hot_button_dict = pd.Series(hot_button_df['keyword list'].values,index=hot_button_df['Hot button issues']).to_dict()\n",
    "\n",
    "hot_button_dict\n",
    "\n",
    "for k, v in hot_button_dict.items():\n",
    "    # regular expression, deal with multiplles\n",
    "    ## 1. adding 's','d'at end\n",
    "    ## 2. separated from other characters\n",
    "    ## 3. take care of duplicated space\n",
    "    hot_button_dict[k] = v.replace(', ', 's?[\\s|.,]+|[\\s|.,]+').replace('s?[\\s|.,]+|[\\s|.,]+(s)?[\\s|.,]+|[\\s|.,]+','|')\n",
    "\n",
    "hot_button_dict\n",
    "hot_button_dict"
   ]
  },
  {
   "cell_type": "code",
   "execution_count": 5,
   "metadata": {
    "collapsed": true
   },
   "outputs": [],
   "source": [
    "# Save and load for reuse in production\n",
    "\n",
    "import pickle\n",
    "\n",
    "pickle.dump(hot_button_dict, open(save_file,'wb'))\n",
    "\n",
    "hot_button_dict = pickle.load(open(save_file, 'rb'))"
   ]
  },
  {
   "cell_type": "markdown",
   "metadata": {},
   "source": [
    "#### Load Text File and get search results"
   ]
  },
  {
   "cell_type": "code",
   "execution_count": 6,
   "metadata": {},
   "outputs": [
    {
     "data": {
      "text/plain": [
       "73"
      ]
     },
     "execution_count": 6,
     "metadata": {},
     "output_type": "execute_result"
    }
   ],
   "source": [
    "def search_wordlist_in_paragarph(wordlist, paragarph):\n",
    "    '''Check if a paragarph contains any word in list'''\n",
    "    result = re.findall(wordlist, paragarph)\n",
    "\n",
    "    return result\n",
    "\n",
    "def read_doc(f_path,word_length_filter=20):\n",
    "    '''load an clean document'''\n",
    "    if os.path.isfile(f_path):\n",
    "        doc = Document(f_path)\n",
    "        text_list = [p.text for p in doc.paragraphs if len(p.text)>10]#[3:]\n",
    "        text_list = [p.replace('\\xa0',' ') for p in text_list] # some clean up \n",
    "        text_list = [p for p in text_list if len(p.split()) > word_length_filter]\n",
    "    else:\n",
    "        raise Exception('File does not exist: {}'.format(f_path))\n",
    "\n",
    "    return text_list\n",
    "\n",
    "document = read_doc(text_file_path)\n",
    "\n",
    "## some replacement of \"-/_\" to space\n",
    "document = list(map(lambda x: re.sub(r'—|-|_',' ',x), document))\n",
    "len(document)"
   ]
  },
  {
   "cell_type": "code",
   "execution_count": 9,
   "metadata": {},
   "outputs": [
    {
     "name": "stdout",
     "output_type": "stream",
     "text": [
      "{'Capital flow management measures': {'capital flow measures'}, 'Exchange restrictions': {'exchange'}, 'Multiple currency practice': None, 'Corruption': {'transparency,'}, 'Governance': None, 'Fintech/digital': None, 'Macroprudential measures': {'', '.,', '.', ',', 'macroprudential', 'macroprudential tools'}, 'Housing': {'real estate', 'mortgage', 'households', 'property', 'household'}, 'Demographic': {'insurance', 'population', 'pensions,', 'working age', 'productivity.', 'demographic', 'productivity', 'pension'}, 'Shadow banking': {', contingent liabilities'}, 'Competition policy': None, 'Foreign Exchange intervention': {'intervention'}, 'Belt and road': {'', '.,', '.', ','}, 'Arrears': {'repayment'}, 'Debt restructuring': None, 'Financing assurances': {'', '.,', '.', ','}}\n",
      "--- 22.74454665184021 seconds ---\n"
     ]
    }
   ],
   "source": [
    "result = dict()\n",
    "\n",
    "for k, v in hot_button_dict.items():\n",
    "    # iterate over each topic\n",
    "    found_list = list(map(lambda x: search_wordlist_in_paragarph(v, x), document))\n",
    "    found_word = [y for x in found_list for y in x if x !=[]]\n",
    "    if len(found_word) == 0:\n",
    "        result[k] = None\n",
    "    else:\n",
    "        result[k] = set(list(map(lambda x: x.strip(' '),found_word)))\n",
    "\n",
    "print(result)\n",
    "\n",
    "print(\"--- %s seconds ---\" % (time.time() - start_time))"
   ]
  },
  {
   "cell_type": "code",
   "execution_count": null,
   "metadata": {},
   "outputs": [],
   "source": [
    "# test example\n",
    "list(map(lambda x: x.strip(' '), ['it is good ',' bad apple']))"
   ]
  },
  {
   "cell_type": "code",
   "execution_count": null,
   "metadata": {},
   "outputs": [],
   "source": [
    "re.findall('[\\b]*gr[\\s.,]', r'It''s great gr .')"
   ]
  }
 ],
 "metadata": {
  "kernelspec": {
   "display_name": "Python 3",
   "language": "python",
   "name": "python3"
  },
  "language_info": {
   "codemirror_mode": {
    "name": "ipython",
    "version": 3
   },
   "file_extension": ".py",
   "mimetype": "text/x-python",
   "name": "python",
   "nbconvert_exporter": "python",
   "pygments_lexer": "ipython3",
   "version": "3.6.4"
  }
 },
 "nbformat": 4,
 "nbformat_minor": 2
}
